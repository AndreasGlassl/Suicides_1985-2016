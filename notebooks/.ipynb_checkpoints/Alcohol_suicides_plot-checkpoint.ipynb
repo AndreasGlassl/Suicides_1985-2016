{
 "cells": [
  {
   "cell_type": "code",
   "execution_count": 2,
   "metadata": {},
   "outputs": [],
   "source": [
    "import pandas as pd\n",
    "import numpy as np\n",
    "import matplotlib.pyplot as plt\n",
    "import seaborn as sns\n",
    "import statsmodels.api as sm"
   ]
  },
  {
   "cell_type": "code",
   "execution_count": 4,
   "metadata": {},
   "outputs": [
    {
     "data": {
      "text/html": [
       "<div>\n",
       "<style scoped>\n",
       "    .dataframe tbody tr th:only-of-type {\n",
       "        vertical-align: middle;\n",
       "    }\n",
       "\n",
       "    .dataframe tbody tr th {\n",
       "        vertical-align: top;\n",
       "    }\n",
       "\n",
       "    .dataframe thead th {\n",
       "        text-align: right;\n",
       "    }\n",
       "</style>\n",
       "<table border=\"1\" class=\"dataframe\">\n",
       "  <thead>\n",
       "    <tr style=\"text-align: right;\">\n",
       "      <th></th>\n",
       "      <th>year</th>\n",
       "      <th>alcohol per capita</th>\n",
       "      <th>country</th>\n",
       "    </tr>\n",
       "  </thead>\n",
       "  <tbody>\n",
       "    <tr>\n",
       "      <th>0</th>\n",
       "      <td>1961</td>\n",
       "      <td>0.41</td>\n",
       "      <td>REPUBLIC OF KOREA</td>\n",
       "    </tr>\n",
       "    <tr>\n",
       "      <th>1</th>\n",
       "      <td>1962</td>\n",
       "      <td>0.41</td>\n",
       "      <td>REPUBLIC OF KOREA</td>\n",
       "    </tr>\n",
       "    <tr>\n",
       "      <th>2</th>\n",
       "      <td>1963</td>\n",
       "      <td>0.34</td>\n",
       "      <td>REPUBLIC OF KOREA</td>\n",
       "    </tr>\n",
       "    <tr>\n",
       "      <th>3</th>\n",
       "      <td>1964</td>\n",
       "      <td>0.33</td>\n",
       "      <td>REPUBLIC OF KOREA</td>\n",
       "    </tr>\n",
       "    <tr>\n",
       "      <th>4</th>\n",
       "      <td>1965</td>\n",
       "      <td>0.50</td>\n",
       "      <td>REPUBLIC OF KOREA</td>\n",
       "    </tr>\n",
       "  </tbody>\n",
       "</table>\n",
       "</div>"
      ],
      "text/plain": [
       "   year  alcohol per capita            country\n",
       "0  1961                0.41  REPUBLIC OF KOREA\n",
       "1  1962                0.41  REPUBLIC OF KOREA\n",
       "2  1963                0.34  REPUBLIC OF KOREA\n",
       "3  1964                0.33  REPUBLIC OF KOREA\n",
       "4  1965                0.50  REPUBLIC OF KOREA"
      ]
     },
     "execution_count": 4,
     "metadata": {},
     "output_type": "execute_result"
    }
   ],
   "source": [
    "a = pd.read_csv(\"../data/alcohol_per_capita2.csv\")\n",
    "a.head()"
   ]
  },
  {
   "cell_type": "code",
   "execution_count": 6,
   "metadata": {},
   "outputs": [
    {
     "data": {
      "text/plain": [
       "UNITED STATES         60\n",
       "JAPAN                 59\n",
       "REPUBLIC OF KOREA     59\n",
       "RUSSIAN FEDERATION    57\n",
       "Name: country, dtype: int64"
      ]
     },
     "execution_count": 6,
     "metadata": {},
     "output_type": "execute_result"
    }
   ],
   "source": [
    "a[\"country\"].value_counts()"
   ]
  },
  {
   "cell_type": "code",
   "execution_count": 38,
   "metadata": {},
   "outputs": [
    {
     "data": {
      "text/html": [
       "<div>\n",
       "<style scoped>\n",
       "    .dataframe tbody tr th:only-of-type {\n",
       "        vertical-align: middle;\n",
       "    }\n",
       "\n",
       "    .dataframe tbody tr th {\n",
       "        vertical-align: top;\n",
       "    }\n",
       "\n",
       "    .dataframe thead th {\n",
       "        text-align: right;\n",
       "    }\n",
       "</style>\n",
       "<table border=\"1\" class=\"dataframe\">\n",
       "  <thead>\n",
       "    <tr style=\"text-align: right;\">\n",
       "      <th></th>\n",
       "      <th>year</th>\n",
       "      <th>alcohol per capita</th>\n",
       "      <th>country</th>\n",
       "    </tr>\n",
       "  </thead>\n",
       "  <tbody>\n",
       "    <tr>\n",
       "      <th>0</th>\n",
       "      <td>1961</td>\n",
       "      <td>0.41</td>\n",
       "      <td>REPUBLIC OF KOREA</td>\n",
       "    </tr>\n",
       "    <tr>\n",
       "      <th>1</th>\n",
       "      <td>1962</td>\n",
       "      <td>0.41</td>\n",
       "      <td>REPUBLIC OF KOREA</td>\n",
       "    </tr>\n",
       "    <tr>\n",
       "      <th>2</th>\n",
       "      <td>1963</td>\n",
       "      <td>0.34</td>\n",
       "      <td>REPUBLIC OF KOREA</td>\n",
       "    </tr>\n",
       "    <tr>\n",
       "      <th>3</th>\n",
       "      <td>1964</td>\n",
       "      <td>0.33</td>\n",
       "      <td>REPUBLIC OF KOREA</td>\n",
       "    </tr>\n",
       "    <tr>\n",
       "      <th>4</th>\n",
       "      <td>1965</td>\n",
       "      <td>0.50</td>\n",
       "      <td>REPUBLIC OF KOREA</td>\n",
       "    </tr>\n",
       "  </tbody>\n",
       "</table>\n",
       "</div>"
      ],
      "text/plain": [
       "   year  alcohol per capita            country\n",
       "0  1961                0.41  REPUBLIC OF KOREA\n",
       "1  1962                0.41  REPUBLIC OF KOREA\n",
       "2  1963                0.34  REPUBLIC OF KOREA\n",
       "3  1964                0.33  REPUBLIC OF KOREA\n",
       "4  1965                0.50  REPUBLIC OF KOREA"
      ]
     },
     "execution_count": 38,
     "metadata": {},
     "output_type": "execute_result"
    }
   ],
   "source": [
    "a_kj = a[(a[\"country\"]==\"REPUBLIC OF KOREA\")|(a[\"country\"]==\"JAPAN\")]\n",
    "a_kj.sort_values(\"year\", ascending=False)\n",
    "a_kj.head()"
   ]
  },
  {
   "cell_type": "code",
   "execution_count": 17,
   "metadata": {},
   "outputs": [],
   "source": [
    "s = pd.read_csv(\"../data/master_grouped_ccy.csv\")\n",
    "su = s.drop(columns=\"Unnamed: 0\")"
   ]
  },
  {
   "cell_type": "code",
   "execution_count": 28,
   "metadata": {},
   "outputs": [],
   "source": [
    "su[\"country\"] = su[\"country\"].str.upper()"
   ]
  },
  {
   "cell_type": "code",
   "execution_count": 32,
   "metadata": {},
   "outputs": [],
   "source": [
    "su_kj = su[(su[\"country\"]==\"REPUBLIC OF KOREA\")|(su[\"country\"]==\"JAPAN\")]"
   ]
  },
  {
   "cell_type": "code",
   "execution_count": 35,
   "metadata": {},
   "outputs": [
    {
     "data": {
      "text/html": [
       "<div>\n",
       "<style scoped>\n",
       "    .dataframe tbody tr th:only-of-type {\n",
       "        vertical-align: middle;\n",
       "    }\n",
       "\n",
       "    .dataframe tbody tr th {\n",
       "        vertical-align: top;\n",
       "    }\n",
       "\n",
       "    .dataframe thead th {\n",
       "        text-align: right;\n",
       "    }\n",
       "</style>\n",
       "<table border=\"1\" class=\"dataframe\">\n",
       "  <thead>\n",
       "    <tr style=\"text-align: right;\">\n",
       "      <th></th>\n",
       "      <th>continent</th>\n",
       "      <th>country</th>\n",
       "      <th>year</th>\n",
       "      <th>suicides_no</th>\n",
       "      <th>population</th>\n",
       "      <th>gdp_per_capita ($)</th>\n",
       "      <th>s_rate</th>\n",
       "    </tr>\n",
       "  </thead>\n",
       "  <tbody>\n",
       "    <tr>\n",
       "      <th>1115</th>\n",
       "      <td>Asia</td>\n",
       "      <td>JAPAN</td>\n",
       "      <td>1985</td>\n",
       "      <td>23257</td>\n",
       "      <td>112809200</td>\n",
       "      <td>12401</td>\n",
       "      <td>20.62</td>\n",
       "    </tr>\n",
       "    <tr>\n",
       "      <th>1116</th>\n",
       "      <td>Asia</td>\n",
       "      <td>JAPAN</td>\n",
       "      <td>1986</td>\n",
       "      <td>25484</td>\n",
       "      <td>113679000</td>\n",
       "      <td>18288</td>\n",
       "      <td>22.42</td>\n",
       "    </tr>\n",
       "    <tr>\n",
       "      <th>1117</th>\n",
       "      <td>Asia</td>\n",
       "      <td>JAPAN</td>\n",
       "      <td>1987</td>\n",
       "      <td>23663</td>\n",
       "      <td>114416000</td>\n",
       "      <td>22137</td>\n",
       "      <td>20.68</td>\n",
       "    </tr>\n",
       "    <tr>\n",
       "      <th>1118</th>\n",
       "      <td>Asia</td>\n",
       "      <td>JAPAN</td>\n",
       "      <td>1988</td>\n",
       "      <td>22676</td>\n",
       "      <td>115101000</td>\n",
       "      <td>26687</td>\n",
       "      <td>19.70</td>\n",
       "    </tr>\n",
       "    <tr>\n",
       "      <th>1119</th>\n",
       "      <td>Asia</td>\n",
       "      <td>JAPAN</td>\n",
       "      <td>1989</td>\n",
       "      <td>21013</td>\n",
       "      <td>115766000</td>\n",
       "      <td>26389</td>\n",
       "      <td>18.15</td>\n",
       "    </tr>\n",
       "  </tbody>\n",
       "</table>\n",
       "</div>"
      ],
      "text/plain": [
       "     continent country  year  suicides_no  population  gdp_per_capita ($)  \\\n",
       "1115      Asia   JAPAN  1985        23257   112809200               12401   \n",
       "1116      Asia   JAPAN  1986        25484   113679000               18288   \n",
       "1117      Asia   JAPAN  1987        23663   114416000               22137   \n",
       "1118      Asia   JAPAN  1988        22676   115101000               26687   \n",
       "1119      Asia   JAPAN  1989        21013   115766000               26389   \n",
       "\n",
       "      s_rate  \n",
       "1115   20.62  \n",
       "1116   22.42  \n",
       "1117   20.68  \n",
       "1118   19.70  \n",
       "1119   18.15  "
      ]
     },
     "execution_count": 35,
     "metadata": {},
     "output_type": "execute_result"
    }
   ],
   "source": [
    "su_kj.head()"
   ]
  },
  {
   "cell_type": "code",
   "execution_count": 39,
   "metadata": {},
   "outputs": [],
   "source": [
    "al_su = su_kj.merge(a_kj, how=\"left\", on=[\"country\",\"year\"]).dropna()"
   ]
  },
  {
   "cell_type": "code",
   "execution_count": 40,
   "metadata": {},
   "outputs": [
    {
     "data": {
      "text/html": [
       "<div>\n",
       "<style scoped>\n",
       "    .dataframe tbody tr th:only-of-type {\n",
       "        vertical-align: middle;\n",
       "    }\n",
       "\n",
       "    .dataframe tbody tr th {\n",
       "        vertical-align: top;\n",
       "    }\n",
       "\n",
       "    .dataframe thead th {\n",
       "        text-align: right;\n",
       "    }\n",
       "</style>\n",
       "<table border=\"1\" class=\"dataframe\">\n",
       "  <thead>\n",
       "    <tr style=\"text-align: right;\">\n",
       "      <th></th>\n",
       "      <th>continent</th>\n",
       "      <th>country</th>\n",
       "      <th>year</th>\n",
       "      <th>suicides_no</th>\n",
       "      <th>population</th>\n",
       "      <th>gdp_per_capita ($)</th>\n",
       "      <th>s_rate</th>\n",
       "      <th>alcohol per capita</th>\n",
       "    </tr>\n",
       "  </thead>\n",
       "  <tbody>\n",
       "    <tr>\n",
       "      <th>0</th>\n",
       "      <td>Asia</td>\n",
       "      <td>JAPAN</td>\n",
       "      <td>1985</td>\n",
       "      <td>23257</td>\n",
       "      <td>112809200</td>\n",
       "      <td>12401</td>\n",
       "      <td>20.62</td>\n",
       "      <td>2.94</td>\n",
       "    </tr>\n",
       "    <tr>\n",
       "      <th>1</th>\n",
       "      <td>Asia</td>\n",
       "      <td>JAPAN</td>\n",
       "      <td>1986</td>\n",
       "      <td>25484</td>\n",
       "      <td>113679000</td>\n",
       "      <td>18288</td>\n",
       "      <td>22.42</td>\n",
       "      <td>2.93</td>\n",
       "    </tr>\n",
       "    <tr>\n",
       "      <th>2</th>\n",
       "      <td>Asia</td>\n",
       "      <td>JAPAN</td>\n",
       "      <td>1987</td>\n",
       "      <td>23663</td>\n",
       "      <td>114416000</td>\n",
       "      <td>22137</td>\n",
       "      <td>20.68</td>\n",
       "      <td>2.81</td>\n",
       "    </tr>\n",
       "    <tr>\n",
       "      <th>3</th>\n",
       "      <td>Asia</td>\n",
       "      <td>JAPAN</td>\n",
       "      <td>1988</td>\n",
       "      <td>22676</td>\n",
       "      <td>115101000</td>\n",
       "      <td>26687</td>\n",
       "      <td>19.70</td>\n",
       "      <td>3.05</td>\n",
       "    </tr>\n",
       "    <tr>\n",
       "      <th>4</th>\n",
       "      <td>Asia</td>\n",
       "      <td>JAPAN</td>\n",
       "      <td>1989</td>\n",
       "      <td>21013</td>\n",
       "      <td>115766000</td>\n",
       "      <td>26389</td>\n",
       "      <td>18.15</td>\n",
       "      <td>2.63</td>\n",
       "    </tr>\n",
       "  </tbody>\n",
       "</table>\n",
       "</div>"
      ],
      "text/plain": [
       "  continent country  year  suicides_no  population  gdp_per_capita ($)  \\\n",
       "0      Asia   JAPAN  1985        23257   112809200               12401   \n",
       "1      Asia   JAPAN  1986        25484   113679000               18288   \n",
       "2      Asia   JAPAN  1987        23663   114416000               22137   \n",
       "3      Asia   JAPAN  1988        22676   115101000               26687   \n",
       "4      Asia   JAPAN  1989        21013   115766000               26389   \n",
       "\n",
       "   s_rate  alcohol per capita  \n",
       "0   20.62                2.94  \n",
       "1   22.42                2.93  \n",
       "2   20.68                2.81  \n",
       "3   19.70                3.05  \n",
       "4   18.15                2.63  "
      ]
     },
     "execution_count": 40,
     "metadata": {},
     "output_type": "execute_result"
    }
   ],
   "source": [
    "al_su.head()"
   ]
  },
  {
   "cell_type": "code",
   "execution_count": 43,
   "metadata": {},
   "outputs": [
    {
     "data": {
      "text/plain": [
       "[<matplotlib.lines.Line2D at 0x1a27d0e250>]"
      ]
     },
     "execution_count": 43,
     "metadata": {},
     "output_type": "execute_result"
    },
    {
     "data": {
      "image/png": "[encoded data removed]",
      "text/plain": [
       "<Figure size 720x432 with 2 Axes>"
      ]
     },
     "metadata": {
      "needs_background": "light"
     },
     "output_type": "display_data"
    }
   ],
   "source": [
    "fig, axes = plt.subplots(nrows=1, ncols=2, figsize=(10,6))\n",
    "axes[0].plot(al_su[\"year\"], al_su[\"s_rate\"])\n",
    "axes[1].plot(al_su[\"year\"], al_su[\"alcohol per capita\"])"
   ]
  },
  {
   "cell_type": "code",
   "execution_count": null,
   "metadata": {},
   "outputs": [],
   "source": []
  }
 ],
 "metadata": {
  "kernelspec": {
   "display_name": "Python 3",
   "language": "python",
   "name": "python3"
  },
  "language_info": {
   "codemirror_mode": {
    "name": "ipython",
    "version": 3
   },
   "file_extension": ".py",
   "mimetype": "text/x-python",
   "name": "python",
   "nbconvert_exporter": "python",
   "pygments_lexer": "ipython3",
   "version": "3.7.6"
  }
 },
 "nbformat": 4,
 "nbformat_minor": 4
}

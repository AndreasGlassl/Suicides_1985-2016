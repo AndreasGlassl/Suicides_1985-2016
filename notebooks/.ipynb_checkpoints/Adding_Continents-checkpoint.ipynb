{
 "cells": [
  {
   "cell_type": "markdown",
   "metadata": {},
   "source": [
    "# Adding continents to the countries in the suicide info\n",
    "\n",
    "First, loading the data from the website, scraping it after and creating a dictionary.\n",
    "\n",
    "Then load the csv into a df and add the continent column."
   ]
  },
  {
   "cell_type": "code",
   "execution_count": null,
   "metadata": {},
   "outputs": [],
   "source": [
    "import requests\n",
    "from bs4 import BeautifulSoup\n",
    "import pandas as pd"
   ]
  },
  {
   "cell_type": "code",
   "execution_count": 2,
   "metadata": {},
   "outputs": [],
   "source": [
    "url = \"https://www.worldatlas.com/cntycont.htm\""
   ]
  },
  {
   "cell_type": "code",
   "execution_count": 3,
   "metadata": {},
   "outputs": [],
   "source": [
    "atlas = BeautifulSoup(requests.get(url).content, \"html.parser\")"
   ]
  },
  {
   "cell_type": "code",
   "execution_count": 4,
   "metadata": {},
   "outputs": [],
   "source": [
    "world = pd.DataFrame()"
   ]
  },
  {
   "cell_type": "code",
   "execution_count": 19,
   "metadata": {},
   "outputs": [],
   "source": [
    "overview = atlas.find(\"div\", class_=\"miscTxt\")"
   ]
  },
  {
   "cell_type": "code",
   "execution_count": 27,
   "metadata": {},
   "outputs": [],
   "source": [
    "continents = overview.find_all(\"h2\")"
   ]
  },
  {
   "cell_type": "code",
   "execution_count": 21,
   "metadata": {},
   "outputs": [],
   "source": [
    "countries = overview.find_all(\"ul\")"
   ]
  },
  {
   "cell_type": "code",
   "execution_count": 47,
   "metadata": {},
   "outputs": [],
   "source": [
    "continent_list = ([item.text\n",
    "                  .replace(\"\\n\",\"\")\n",
    "                  .replace(\"(\",\"\")\n",
    "                  .replace(\")\",\"\")\n",
    "                  .replace(\"1\",\"\")\n",
    "                  .replace(\"2\",\"\")\n",
    "                  .replace(\"3\",\"\")\n",
    "                  .replace(\"4\",\"\")\n",
    "                  .replace(\"5\",\"\")\n",
    "                  .replace(\"6\",\"\")\n",
    "                  .replace(\"7\",\"\")\n",
    "                  .replace(\"8\",\"\")\n",
    "                  .replace(\"9\",\"\")\n",
    "                  .replace(\"0\",\"\")\n",
    "                  .strip()\n",
    "                  .capitalize()\n",
    "                  for item in continents]\n",
    "                )\n",
    "\n",
    "continent_list = continent_list[:-2]"
   ]
  },
  {
   "cell_type": "code",
   "execution_count": 49,
   "metadata": {},
   "outputs": [],
   "source": [
    "dictionary = {}\n",
    "for i in range(len(continent_list)):\n",
    "    country_list = [item.text for item in countries[i].find_all(\"li\")]\n",
    "    for items in country_list:\n",
    "        dictionary[items]=continent_list[i]"
   ]
  },
  {
   "cell_type": "code",
   "execution_count": 77,
   "metadata": {},
   "outputs": [],
   "source": [
    "dictionary[\"Aruba\"] = \"S. America\""
   ]
  },
  {
   "cell_type": "code",
   "execution_count": 79,
   "metadata": {},
   "outputs": [],
   "source": [
    "dictionary[\"Cabo Verde\"] = \"Africa\""
   ]
  },
  {
   "cell_type": "code",
   "execution_count": 81,
   "metadata": {},
   "outputs": [],
   "source": [
    "dictionary[\"Macau\"] = \"Asia\""
   ]
  },
  {
   "cell_type": "code",
   "execution_count": 83,
   "metadata": {},
   "outputs": [],
   "source": [
    "dictionary[\"Puerto Rico\"] = \"N. America\""
   ]
  },
  {
   "cell_type": "code",
   "execution_count": 86,
   "metadata": {},
   "outputs": [],
   "source": [
    "dictionary[\"Republic of Korea\"] = \"Asia\""
   ]
  },
  {
   "cell_type": "code",
   "execution_count": null,
   "metadata": {},
   "outputs": [],
   "source": []
  },
  {
   "cell_type": "code",
   "execution_count": 109,
   "metadata": {},
   "outputs": [],
   "source": [
    "suicides = pd.read_csv(\"../data/master.csv\")"
   ]
  },
  {
   "cell_type": "code",
   "execution_count": 110,
   "metadata": {},
   "outputs": [],
   "source": [
    "suicides = suicides.assign(continent = None)"
   ]
  },
  {
   "cell_type": "code",
   "execution_count": 111,
   "metadata": {},
   "outputs": [
    {
     "data": {
      "text/plain": [
       "(27820, 13)"
      ]
     },
     "execution_count": 111,
     "metadata": {},
     "output_type": "execute_result"
    }
   ],
   "source": [
    "suicides.shape"
   ]
  },
  {
   "cell_type": "code",
   "execution_count": 112,
   "metadata": {},
   "outputs": [],
   "source": [
    "suicides = suicides[suicides[\"country\"]!='Saint Vincent and Grenadines'].reset_index(drop=True)"
   ]
  },
  {
   "cell_type": "code",
   "execution_count": 114,
   "metadata": {
    "scrolled": true
   },
   "outputs": [],
   "source": [
    "for i in range(len(suicides)):\n",
    "    suicides.loc[i, \"continent\"]=dictionary[suicides.loc[i,\"country\"]]"
   ]
  },
  {
   "cell_type": "code",
   "execution_count": 116,
   "metadata": {},
   "outputs": [
    {
     "data": {
      "text/plain": [
       "Europe        12026\n",
       "N. america     5218\n",
       "Asia           4758\n",
       "S. america     3156\n",
       "Oceania         972\n",
       "Africa          850\n",
       "N. America      372\n",
       "S. America      168\n",
       "Name: continent, dtype: int64"
      ]
     },
     "execution_count": 116,
     "metadata": {},
     "output_type": "execute_result"
    }
   ],
   "source": [
    "suicides.continent.value_counts()"
   ]
  },
  {
   "cell_type": "code",
   "execution_count": 117,
   "metadata": {},
   "outputs": [],
   "source": [
    "suicides.to_csv(\"../data/master.csv\")"
   ]
  }
 ],
 "metadata": {
  "kernelspec": {
   "display_name": "Python 3",
   "language": "python",
   "name": "python3"
  },
  "language_info": {
   "codemirror_mode": {
    "name": "ipython",
    "version": 3
   },
   "file_extension": ".py",
   "mimetype": "text/x-python",
   "name": "python",
   "nbconvert_exporter": "python",
   "pygments_lexer": "ipython3",
   "version": "3.7.6"
  }
 },
 "nbformat": 4,
 "nbformat_minor": 4
}

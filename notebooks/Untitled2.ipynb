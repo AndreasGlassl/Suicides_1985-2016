{
 "cells": [
  {
   "cell_type": "code",
   "execution_count": 1,
   "metadata": {},
   "outputs": [],
   "source": [
    "import pandas as pd\n",
    "import numpy as np"
   ]
  },
  {
   "cell_type": "code",
   "execution_count": 2,
   "metadata": {},
   "outputs": [],
   "source": [
    "file = pd.read_csv(\"../data/working.csv\")"
   ]
  },
  {
   "cell_type": "code",
   "execution_count": 3,
   "metadata": {},
   "outputs": [
    {
     "data": {
      "text/html": [
       "<div>\n",
       "<style scoped>\n",
       "    .dataframe tbody tr th:only-of-type {\n",
       "        vertical-align: middle;\n",
       "    }\n",
       "\n",
       "    .dataframe tbody tr th {\n",
       "        vertical-align: top;\n",
       "    }\n",
       "\n",
       "    .dataframe thead th {\n",
       "        text-align: right;\n",
       "    }\n",
       "</style>\n",
       "<table border=\"1\" class=\"dataframe\">\n",
       "  <thead>\n",
       "    <tr style=\"text-align: right;\">\n",
       "      <th></th>\n",
       "      <th>year</th>\n",
       "      <th>Korea</th>\n",
       "      <th>Costa Rica</th>\n",
       "      <th>Mexico</th>\n",
       "      <th>Chile</th>\n",
       "      <th>Greece</th>\n",
       "      <th>Iceland</th>\n",
       "      <th>Israel</th>\n",
       "      <th>Poland</th>\n",
       "      <th>Russian Federation</th>\n",
       "      <th>...</th>\n",
       "      <th>United Kingdom</th>\n",
       "      <th>Switzerland</th>\n",
       "      <th>Sweden</th>\n",
       "      <th>Luxembourg</th>\n",
       "      <th>Belgium</th>\n",
       "      <th>France</th>\n",
       "      <th>Denmark</th>\n",
       "      <th>Netherlands</th>\n",
       "      <th>Norway</th>\n",
       "      <th>Germany</th>\n",
       "    </tr>\n",
       "  </thead>\n",
       "  <tbody>\n",
       "    <tr>\n",
       "      <th>0</th>\n",
       "      <td>2000</td>\n",
       "      <td>2512</td>\n",
       "      <td>2368</td>\n",
       "      <td>2311</td>\n",
       "      <td>2263</td>\n",
       "      <td>2108</td>\n",
       "      <td>2040</td>\n",
       "      <td>1998</td>\n",
       "      <td>1988</td>\n",
       "      <td>1982</td>\n",
       "      <td>...</td>\n",
       "      <td>1700</td>\n",
       "      <td>1674</td>\n",
       "      <td>1642</td>\n",
       "      <td>1602</td>\n",
       "      <td>1595</td>\n",
       "      <td>1535</td>\n",
       "      <td>1466</td>\n",
       "      <td>1462</td>\n",
       "      <td>1455</td>\n",
       "      <td>1452</td>\n",
       "    </tr>\n",
       "    <tr>\n",
       "      <th>1</th>\n",
       "      <td>2001</td>\n",
       "      <td>2499</td>\n",
       "      <td>2335</td>\n",
       "      <td>2285</td>\n",
       "      <td>2242</td>\n",
       "      <td>2101</td>\n",
       "      <td>2053</td>\n",
       "      <td>1979</td>\n",
       "      <td>1974</td>\n",
       "      <td>1980</td>\n",
       "      <td>...</td>\n",
       "      <td>1705</td>\n",
       "      <td>1635</td>\n",
       "      <td>1618</td>\n",
       "      <td>1586</td>\n",
       "      <td>1588</td>\n",
       "      <td>1526</td>\n",
       "      <td>1469</td>\n",
       "      <td>1452</td>\n",
       "      <td>1429</td>\n",
       "      <td>1442</td>\n",
       "    </tr>\n",
       "    <tr>\n",
       "      <th>2</th>\n",
       "      <td>2002</td>\n",
       "      <td>2464</td>\n",
       "      <td>2363</td>\n",
       "      <td>2271</td>\n",
       "      <td>2250</td>\n",
       "      <td>2093</td>\n",
       "      <td>2012</td>\n",
       "      <td>1993</td>\n",
       "      <td>1979</td>\n",
       "      <td>1982</td>\n",
       "      <td>...</td>\n",
       "      <td>1684</td>\n",
       "      <td>1614</td>\n",
       "      <td>1595</td>\n",
       "      <td>1581</td>\n",
       "      <td>1583</td>\n",
       "      <td>1487</td>\n",
       "      <td>1463</td>\n",
       "      <td>1435</td>\n",
       "      <td>1414</td>\n",
       "      <td>1431</td>\n",
       "    </tr>\n",
       "    <tr>\n",
       "      <th>3</th>\n",
       "      <td>2003</td>\n",
       "      <td>2424</td>\n",
       "      <td>2356</td>\n",
       "      <td>2277</td>\n",
       "      <td>2235</td>\n",
       "      <td>2091</td>\n",
       "      <td>1972</td>\n",
       "      <td>1974</td>\n",
       "      <td>1984</td>\n",
       "      <td>1993</td>\n",
       "      <td>...</td>\n",
       "      <td>1674</td>\n",
       "      <td>1627</td>\n",
       "      <td>1582</td>\n",
       "      <td>1579</td>\n",
       "      <td>1578</td>\n",
       "      <td>1484</td>\n",
       "      <td>1458</td>\n",
       "      <td>1427</td>\n",
       "      <td>1401</td>\n",
       "      <td>1425</td>\n",
       "    </tr>\n",
       "    <tr>\n",
       "      <th>4</th>\n",
       "      <td>2004</td>\n",
       "      <td>2392</td>\n",
       "      <td>2375</td>\n",
       "      <td>2271</td>\n",
       "      <td>2232</td>\n",
       "      <td>2083</td>\n",
       "      <td>1980</td>\n",
       "      <td>1942</td>\n",
       "      <td>1983</td>\n",
       "      <td>1993</td>\n",
       "      <td>...</td>\n",
       "      <td>1674</td>\n",
       "      <td>1657</td>\n",
       "      <td>1605</td>\n",
       "      <td>1578</td>\n",
       "      <td>1573</td>\n",
       "      <td>1513</td>\n",
       "      <td>1458</td>\n",
       "      <td>1448</td>\n",
       "      <td>1421</td>\n",
       "      <td>1422</td>\n",
       "    </tr>\n",
       "  </tbody>\n",
       "</table>\n",
       "<p>5 rows × 40 columns</p>\n",
       "</div>"
      ],
      "text/plain": [
       "   year  Korea  Costa Rica  Mexico  Chile  Greece  Iceland  Israel  Poland  \\\n",
       "0  2000   2512        2368    2311   2263    2108     2040    1998    1988   \n",
       "1  2001   2499        2335    2285   2242    2101     2053    1979    1974   \n",
       "2  2002   2464        2363    2271   2250    2093     2012    1993    1979   \n",
       "3  2003   2424        2356    2277   2235    2091     1972    1974    1984   \n",
       "4  2004   2392        2375    2271   2232    2083     1980    1942    1983   \n",
       "\n",
       "   Russian Federation  ...  United Kingdom  Switzerland  Sweden  Luxembourg  \\\n",
       "0                1982  ...            1700         1674    1642        1602   \n",
       "1                1980  ...            1705         1635    1618        1586   \n",
       "2                1982  ...            1684         1614    1595        1581   \n",
       "3                1993  ...            1674         1627    1582        1579   \n",
       "4                1993  ...            1674         1657    1605        1578   \n",
       "\n",
       "   Belgium  France  Denmark  Netherlands  Norway  Germany  \n",
       "0     1595    1535     1466         1462    1455     1452  \n",
       "1     1588    1526     1469         1452    1429     1442  \n",
       "2     1583    1487     1463         1435    1414     1431  \n",
       "3     1578    1484     1458         1427    1401     1425  \n",
       "4     1573    1513     1458         1448    1421     1422  \n",
       "\n",
       "[5 rows x 40 columns]"
      ]
     },
     "execution_count": 3,
     "metadata": {},
     "output_type": "execute_result"
    }
   ],
   "source": [
    "file.head()"
   ]
  },
  {
   "cell_type": "code",
   "execution_count": 4,
   "metadata": {},
   "outputs": [],
   "source": [
    "work = pd.DataFrame({\"country\":[], \"year\":[],\"work_hours\":[]})"
   ]
  },
  {
   "cell_type": "code",
   "execution_count": 32,
   "metadata": {},
   "outputs": [
    {
     "data": {
      "text/html": [
       "<div>\n",
       "<style scoped>\n",
       "    .dataframe tbody tr th:only-of-type {\n",
       "        vertical-align: middle;\n",
       "    }\n",
       "\n",
       "    .dataframe tbody tr th {\n",
       "        vertical-align: top;\n",
       "    }\n",
       "\n",
       "    .dataframe thead th {\n",
       "        text-align: right;\n",
       "    }\n",
       "</style>\n",
       "<table border=\"1\" class=\"dataframe\">\n",
       "  <thead>\n",
       "    <tr style=\"text-align: right;\">\n",
       "      <th></th>\n",
       "      <th>country</th>\n",
       "      <th>year</th>\n",
       "      <th>work_hours</th>\n",
       "    </tr>\n",
       "  </thead>\n",
       "  <tbody>\n",
       "  </tbody>\n",
       "</table>\n",
       "</div>"
      ],
      "text/plain": [
       "Empty DataFrame\n",
       "Columns: [country, year, work_hours]\n",
       "Index: []"
      ]
     },
     "execution_count": 32,
     "metadata": {},
     "output_type": "execute_result"
    }
   ],
   "source": [
    "work"
   ]
  },
  {
   "cell_type": "code",
   "execution_count": 23,
   "metadata": {},
   "outputs": [],
   "source": [
    "country_list = file.columns.to_list()"
   ]
  },
  {
   "cell_type": "code",
   "execution_count": 26,
   "metadata": {},
   "outputs": [],
   "source": [
    "country_list = country_list[1:]"
   ]
  },
  {
   "cell_type": "code",
   "execution_count": 39,
   "metadata": {
    "collapsed": true
   },
   "outputs": [
    {
     "data": {
      "text/plain": [
       "['Korea',\n",
       " 'Costa Rica',\n",
       " 'Mexico',\n",
       " 'Chile',\n",
       " 'Greece',\n",
       " 'Iceland',\n",
       " 'Israel',\n",
       " 'Poland',\n",
       " 'Russian Federation',\n",
       " 'Estonia',\n",
       " 'Latvia',\n",
       " 'Turkey',\n",
       " 'Ireland',\n",
       " 'Portugal',\n",
       " 'Czech Republic',\n",
       " 'Italy',\n",
       " 'Lithuania',\n",
       " 'Hungary',\n",
       " 'New Zealand',\n",
       " 'United States',\n",
       " 'OECD countries',\n",
       " 'Japan',\n",
       " 'Slovak Republic',\n",
       " 'Austria',\n",
       " 'Australia',\n",
       " 'Canada',\n",
       " 'Spain',\n",
       " 'Finland',\n",
       " 'Slovenia',\n",
       " 'United Kingdom',\n",
       " 'Switzerland',\n",
       " 'Sweden',\n",
       " 'Luxembourg',\n",
       " 'Belgium',\n",
       " 'France',\n",
       " 'Denmark',\n",
       " 'Netherlands',\n",
       " 'Norway',\n",
       " 'Germany']"
      ]
     },
     "execution_count": 39,
     "metadata": {},
     "output_type": "execute_result"
    }
   ],
   "source": [
    "country_list"
   ]
  },
  {
   "cell_type": "code",
   "execution_count": null,
   "metadata": {},
   "outputs": [],
   "source": [
    "file.loc[]"
   ]
  },
  {
   "cell_type": "code",
   "execution_count": 18,
   "metadata": {},
   "outputs": [
    {
     "data": {
      "text/plain": [
       "2512"
      ]
     },
     "execution_count": 18,
     "metadata": {},
     "output_type": "execute_result"
    }
   ],
   "source": [
    "file.iloc[0,1]"
   ]
  },
  {
   "cell_type": "code",
   "execution_count": 44,
   "metadata": {},
   "outputs": [],
   "source": [
    "country_df = []\n",
    "year_df = []\n",
    "work_hours_df = []\n",
    "for i in range(len(country_list)): \n",
    "    for j in range(len(file)):\n",
    "        country_df.append(country_list[i])\n",
    "        year_df.append(file.iloc[j,0])\n",
    "        work_hours_df.append(file.iloc[j,i+1])\n",
    "        "
   ]
  },
  {
   "cell_type": "code",
   "execution_count": 46,
   "metadata": {},
   "outputs": [],
   "source": [
    "work = pd.DataFrame({\"country\":country_df, \"year\":year_df,\"work_hours\":work_hours_df})"
   ]
  },
  {
   "cell_type": "code",
   "execution_count": 47,
   "metadata": {
    "scrolled": true
   },
   "outputs": [
    {
     "data": {
      "text/html": [
       "<div>\n",
       "<style scoped>\n",
       "    .dataframe tbody tr th:only-of-type {\n",
       "        vertical-align: middle;\n",
       "    }\n",
       "\n",
       "    .dataframe tbody tr th {\n",
       "        vertical-align: top;\n",
       "    }\n",
       "\n",
       "    .dataframe thead th {\n",
       "        text-align: right;\n",
       "    }\n",
       "</style>\n",
       "<table border=\"1\" class=\"dataframe\">\n",
       "  <thead>\n",
       "    <tr style=\"text-align: right;\">\n",
       "      <th></th>\n",
       "      <th>country</th>\n",
       "      <th>year</th>\n",
       "      <th>work_hours</th>\n",
       "    </tr>\n",
       "  </thead>\n",
       "  <tbody>\n",
       "    <tr>\n",
       "      <th>0</th>\n",
       "      <td>Korea</td>\n",
       "      <td>2000</td>\n",
       "      <td>2512</td>\n",
       "    </tr>\n",
       "    <tr>\n",
       "      <th>1</th>\n",
       "      <td>Korea</td>\n",
       "      <td>2001</td>\n",
       "      <td>2499</td>\n",
       "    </tr>\n",
       "    <tr>\n",
       "      <th>2</th>\n",
       "      <td>Korea</td>\n",
       "      <td>2002</td>\n",
       "      <td>2464</td>\n",
       "    </tr>\n",
       "    <tr>\n",
       "      <th>3</th>\n",
       "      <td>Korea</td>\n",
       "      <td>2003</td>\n",
       "      <td>2424</td>\n",
       "    </tr>\n",
       "    <tr>\n",
       "      <th>4</th>\n",
       "      <td>Korea</td>\n",
       "      <td>2004</td>\n",
       "      <td>2392</td>\n",
       "    </tr>\n",
       "    <tr>\n",
       "      <th>...</th>\n",
       "      <td>...</td>\n",
       "      <td>...</td>\n",
       "      <td>...</td>\n",
       "    </tr>\n",
       "    <tr>\n",
       "      <th>619</th>\n",
       "      <td>Germany</td>\n",
       "      <td>2011</td>\n",
       "      <td>1393</td>\n",
       "    </tr>\n",
       "    <tr>\n",
       "      <th>620</th>\n",
       "      <td>Germany</td>\n",
       "      <td>2012</td>\n",
       "      <td>1375</td>\n",
       "    </tr>\n",
       "    <tr>\n",
       "      <th>621</th>\n",
       "      <td>Germany</td>\n",
       "      <td>2013</td>\n",
       "      <td>1362</td>\n",
       "    </tr>\n",
       "    <tr>\n",
       "      <th>622</th>\n",
       "      <td>Germany</td>\n",
       "      <td>2014</td>\n",
       "      <td>1368</td>\n",
       "    </tr>\n",
       "    <tr>\n",
       "      <th>623</th>\n",
       "      <td>Germany</td>\n",
       "      <td>2015</td>\n",
       "      <td>1368</td>\n",
       "    </tr>\n",
       "  </tbody>\n",
       "</table>\n",
       "<p>624 rows × 3 columns</p>\n",
       "</div>"
      ],
      "text/plain": [
       "     country  year  work_hours\n",
       "0      Korea  2000        2512\n",
       "1      Korea  2001        2499\n",
       "2      Korea  2002        2464\n",
       "3      Korea  2003        2424\n",
       "4      Korea  2004        2392\n",
       "..       ...   ...         ...\n",
       "619  Germany  2011        1393\n",
       "620  Germany  2012        1375\n",
       "621  Germany  2013        1362\n",
       "622  Germany  2014        1368\n",
       "623  Germany  2015        1368\n",
       "\n",
       "[624 rows x 3 columns]"
      ]
     },
     "execution_count": 47,
     "metadata": {},
     "output_type": "execute_result"
    }
   ],
   "source": [
    "work"
   ]
  },
  {
   "cell_type": "code",
   "execution_count": 48,
   "metadata": {},
   "outputs": [],
   "source": [
    "work.to_csv(\"../data/work_df.csv\",index=False)"
   ]
  },
  {
   "cell_type": "code",
   "execution_count": null,
   "metadata": {},
   "outputs": [],
   "source": []
  }
 ],
 "metadata": {
  "kernelspec": {
   "display_name": "Python 3",
   "language": "python",
   "name": "python3"
  },
  "language_info": {
   "codemirror_mode": {
    "name": "ipython",
    "version": 3
   },
   "file_extension": ".py",
   "mimetype": "text/x-python",
   "name": "python",
   "nbconvert_exporter": "python",
   "pygments_lexer": "ipython3",
   "version": "3.7.6"
  }
 },
 "nbformat": 4,
 "nbformat_minor": 4
}

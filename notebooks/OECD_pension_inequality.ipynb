{
 "cells": [
  {
   "cell_type": "code",
   "execution_count": 1,
   "metadata": {},
   "outputs": [],
   "source": [
    "import pandas as pd"
   ]
  },
  {
   "cell_type": "code",
   "execution_count": 2,
   "metadata": {},
   "outputs": [],
   "source": [
    "p = pd.read_csv(\"../data/pension_spending.csv\")\n",
    "ine = pd.read_csv(\"../data/inequality.csv\")"
   ]
  },
  {
   "cell_type": "code",
   "execution_count": 3,
   "metadata": {},
   "outputs": [
    {
     "data": {
      "text/html": [
       "<div>\n",
       "<style scoped>\n",
       "    .dataframe tbody tr th:only-of-type {\n",
       "        vertical-align: middle;\n",
       "    }\n",
       "\n",
       "    .dataframe tbody tr th {\n",
       "        vertical-align: top;\n",
       "    }\n",
       "\n",
       "    .dataframe thead th {\n",
       "        text-align: right;\n",
       "    }\n",
       "</style>\n",
       "<table border=\"1\" class=\"dataframe\">\n",
       "  <thead>\n",
       "    <tr style=\"text-align: right;\">\n",
       "      <th></th>\n",
       "      <th>LOCATION</th>\n",
       "      <th>INDICATOR</th>\n",
       "      <th>SUBJECT</th>\n",
       "      <th>MEASURE</th>\n",
       "      <th>FREQUENCY</th>\n",
       "      <th>TIME</th>\n",
       "      <th>Value</th>\n",
       "      <th>Flag Codes</th>\n",
       "    </tr>\n",
       "  </thead>\n",
       "  <tbody>\n",
       "    <tr>\n",
       "      <th>0</th>\n",
       "      <td>AUS</td>\n",
       "      <td>PENSIONEXP</td>\n",
       "      <td>PUB</td>\n",
       "      <td>PC_GDP</td>\n",
       "      <td>A</td>\n",
       "      <td>2015</td>\n",
       "      <td>4.327</td>\n",
       "      <td>NaN</td>\n",
       "    </tr>\n",
       "    <tr>\n",
       "      <th>1</th>\n",
       "      <td>AUS</td>\n",
       "      <td>PENSIONEXP</td>\n",
       "      <td>PUB</td>\n",
       "      <td>PC_GDP</td>\n",
       "      <td>A</td>\n",
       "      <td>2016</td>\n",
       "      <td>4.176</td>\n",
       "      <td>NaN</td>\n",
       "    </tr>\n",
       "    <tr>\n",
       "      <th>2</th>\n",
       "      <td>AUT</td>\n",
       "      <td>PENSIONEXP</td>\n",
       "      <td>PUB</td>\n",
       "      <td>PC_GDP</td>\n",
       "      <td>A</td>\n",
       "      <td>2015</td>\n",
       "      <td>13.304</td>\n",
       "      <td>NaN</td>\n",
       "    </tr>\n",
       "    <tr>\n",
       "      <th>3</th>\n",
       "      <td>BEL</td>\n",
       "      <td>PENSIONEXP</td>\n",
       "      <td>PUB</td>\n",
       "      <td>PC_GDP</td>\n",
       "      <td>A</td>\n",
       "      <td>2015</td>\n",
       "      <td>10.709</td>\n",
       "      <td>NaN</td>\n",
       "    </tr>\n",
       "    <tr>\n",
       "      <th>4</th>\n",
       "      <td>CAN</td>\n",
       "      <td>PENSIONEXP</td>\n",
       "      <td>PUB</td>\n",
       "      <td>PC_GDP</td>\n",
       "      <td>A</td>\n",
       "      <td>2015</td>\n",
       "      <td>4.698</td>\n",
       "      <td>NaN</td>\n",
       "    </tr>\n",
       "  </tbody>\n",
       "</table>\n",
       "</div>"
      ],
      "text/plain": [
       "  LOCATION   INDICATOR SUBJECT MEASURE FREQUENCY  TIME   Value  Flag Codes\n",
       "0      AUS  PENSIONEXP     PUB  PC_GDP         A  2015   4.327         NaN\n",
       "1      AUS  PENSIONEXP     PUB  PC_GDP         A  2016   4.176         NaN\n",
       "2      AUT  PENSIONEXP     PUB  PC_GDP         A  2015  13.304         NaN\n",
       "3      BEL  PENSIONEXP     PUB  PC_GDP         A  2015  10.709         NaN\n",
       "4      CAN  PENSIONEXP     PUB  PC_GDP         A  2015   4.698         NaN"
      ]
     },
     "execution_count": 3,
     "metadata": {},
     "output_type": "execute_result"
    }
   ],
   "source": [
    "p.head()"
   ]
  },
  {
   "cell_type": "code",
   "execution_count": 4,
   "metadata": {},
   "outputs": [],
   "source": [
    "pension = p.drop(columns=[\"INDICATOR\",\"SUBJECT\",\"MEASURE\",\"FREQUENCY\",\"Flag Codes\"])"
   ]
  },
  {
   "cell_type": "code",
   "execution_count": 5,
   "metadata": {},
   "outputs": [
    {
     "data": {
      "text/html": [
       "<div>\n",
       "<style scoped>\n",
       "    .dataframe tbody tr th:only-of-type {\n",
       "        vertical-align: middle;\n",
       "    }\n",
       "\n",
       "    .dataframe tbody tr th {\n",
       "        vertical-align: top;\n",
       "    }\n",
       "\n",
       "    .dataframe thead th {\n",
       "        text-align: right;\n",
       "    }\n",
       "</style>\n",
       "<table border=\"1\" class=\"dataframe\">\n",
       "  <thead>\n",
       "    <tr style=\"text-align: right;\">\n",
       "      <th></th>\n",
       "      <th>LOCATION</th>\n",
       "      <th>TIME</th>\n",
       "      <th>Value</th>\n",
       "    </tr>\n",
       "  </thead>\n",
       "  <tbody>\n",
       "    <tr>\n",
       "      <th>0</th>\n",
       "      <td>AUS</td>\n",
       "      <td>2015</td>\n",
       "      <td>4.327</td>\n",
       "    </tr>\n",
       "    <tr>\n",
       "      <th>1</th>\n",
       "      <td>AUS</td>\n",
       "      <td>2016</td>\n",
       "      <td>4.176</td>\n",
       "    </tr>\n",
       "    <tr>\n",
       "      <th>2</th>\n",
       "      <td>AUT</td>\n",
       "      <td>2015</td>\n",
       "      <td>13.304</td>\n",
       "    </tr>\n",
       "    <tr>\n",
       "      <th>3</th>\n",
       "      <td>BEL</td>\n",
       "      <td>2015</td>\n",
       "      <td>10.709</td>\n",
       "    </tr>\n",
       "    <tr>\n",
       "      <th>4</th>\n",
       "      <td>CAN</td>\n",
       "      <td>2015</td>\n",
       "      <td>4.698</td>\n",
       "    </tr>\n",
       "  </tbody>\n",
       "</table>\n",
       "</div>"
      ],
      "text/plain": [
       "  LOCATION  TIME   Value\n",
       "0      AUS  2015   4.327\n",
       "1      AUS  2016   4.176\n",
       "2      AUT  2015  13.304\n",
       "3      BEL  2015  10.709\n",
       "4      CAN  2015   4.698"
      ]
     },
     "execution_count": 5,
     "metadata": {},
     "output_type": "execute_result"
    }
   ],
   "source": [
    "pension.head()"
   ]
  },
  {
   "cell_type": "code",
   "execution_count": 6,
   "metadata": {},
   "outputs": [],
   "source": [
    "pension = pension.rename(columns={\"LOCATION\":\"country\",\"TIME\":\"year\",\"Value\":\"%gdp_pen\"})"
   ]
  },
  {
   "cell_type": "code",
   "execution_count": 7,
   "metadata": {},
   "outputs": [
    {
     "data": {
      "text/plain": [
       "ISR     3\n",
       "CHL     3\n",
       "USA     3\n",
       "KOR     3\n",
       "NZL     3\n",
       "TUR     2\n",
       "MEX     2\n",
       "AUS     2\n",
       "SWE     1\n",
       "BEL     1\n",
       "LVA     1\n",
       "IRL     1\n",
       "PRT     1\n",
       "HUN     1\n",
       "GRC     1\n",
       "FRA     1\n",
       "DNK     1\n",
       "LTU     1\n",
       "CAN     1\n",
       "LUX     1\n",
       "DEU     1\n",
       "GBR     1\n",
       "SVK     1\n",
       "NOR     1\n",
       "OECD    1\n",
       "JPN     1\n",
       "SVN     1\n",
       "CZE     1\n",
       "ISL     1\n",
       "EST     1\n",
       "AUT     1\n",
       "ESP     1\n",
       "ITA     1\n",
       "FIN     1\n",
       "NLD     1\n",
       "CHE     1\n",
       "Name: country, dtype: int64"
      ]
     },
     "execution_count": 7,
     "metadata": {},
     "output_type": "execute_result"
    }
   ],
   "source": [
    "pension[\"country\"].value_counts()"
   ]
  },
  {
   "cell_type": "code",
   "execution_count": 8,
   "metadata": {},
   "outputs": [],
   "source": [
    "country_code = {'OECD':'OECD','AFG': 'Afghanistan','ALA': 'Aland Islands','ALB': 'Albania','DZA': 'Algeria','ASM': 'American Samoa','AND': 'Andorra','AGO': 'Angola','AIA': 'Anguilla','ATA': 'Antarctica','ATG': 'Antigua and Barbuda','ARG': 'Argentina','ARM': 'Armenia','ABW': 'Aruba','AUS': 'Australia','AUT': 'Austria','AZE': 'Azerbaijan','BHS': 'Bahamas','BHR': 'Bahrain','BGD': 'Bangladesh','BRB': 'Barbados','BLR': 'Belarus','BEL': 'Belgium','BLZ': 'Belize','BEN': 'Benin','BMU': 'Bermuda','BTN': 'Bhutan','BOL': 'Bolivia','BES': 'Bonaire, Saint Eustatius and Saba ','BIH': 'Bosnia and Herzegovina','BWA': 'Botswana','BVT': 'Bouvet Island','BRA': 'Brazil','IOT': 'British Indian Ocean Territory','VGB': 'British Virgin Islands','BRN': 'Brunei','BGR': 'Bulgaria','BFA': 'Burkina Faso','BDI': 'Burundi','KHM': 'Cambodia','CMR': 'Cameroon','CAN': 'Canada','CPV': 'Cape Verde','CYM': 'Cayman Islands','CAF': 'Central African Republic','TCD': 'Chad','CHL': 'Chile','CHN': 'China','CXR': 'Christmas Island','CCK': 'Cocos Islands','COL': 'Colombia','COM': 'Comoros','COK': 'Cook Islands','CRI': 'Costa Rica','HRV': 'Croatia','CUB': 'Cuba','CUW': 'Curacao','CYP': 'Cyprus','CZE': 'Czech Republic','COD': 'Democratic Republic of the Congo','DNK': 'Denmark','DJI': 'Djibouti','DMA': 'Dominica','DOM': 'Dominican Republic','TLS': 'East Timor','ECU': 'Ecuador','EGY': 'Egypt','SLV': 'El Salvador','GNQ': 'Equatorial Guinea','ERI': 'Eritrea','EST': 'Estonia','ETH': 'Ethiopia','FLK': 'Falkland Islands','FRO': 'Faroe Islands','FJI': 'Fiji','FIN': 'Finland','FRA': 'France','GUF': 'French Guiana','PYF': 'French Polynesia','ATF': 'French Southern Territories','GAB': 'Gabon','GMB': 'Gambia','GEO': 'Georgia','DEU': 'Germany','GHA': 'Ghana','GIB': 'Gibraltar','GRC': 'Greece','GRL': 'Greenland','GRD': 'Grenada','GLP': 'Guadeloupe','GUM': 'Guam','GTM': 'Guatemala','GGY': 'Guernsey','GIN': 'Guinea','GNB': 'Guinea-Bissau','GUY': 'Guyana','HTI': 'Haiti','HMD': 'Heard Island and McDonald Islands','HND': 'Honduras','HKG': 'Hong Kong','HUN': 'Hungary','ISL': 'Iceland','IND': 'India','IDN': 'Indonesia','IRN': 'Iran','IRQ': 'Iraq','IRL': 'Ireland','IMN': 'Isle of Man','ISR': 'Israel','ITA': 'Italy','CIV': 'Ivory Coast','JAM': 'Jamaica','JPN': 'Japan','JEY': 'Jersey','JOR': 'Jordan','KAZ': 'Kazakhstan','KEN': 'Kenya','KIR': 'Kiribati','XKX': 'Kosovo','KWT': 'Kuwait','KGZ': 'Kyrgyzstan','LAO': 'Laos','LVA': 'Latvia','LBN': 'Lebanon','LSO': 'Lesotho','LBR': 'Liberia','LBY': 'Libya','LIE': 'Liechtenstein','LTU': 'Lithuania','LUX': 'Luxembourg','MAC': 'Macao','MKD': 'Macedonia','MDG': 'Madagascar','MWI': 'Malawi','MYS': 'Malaysia','MDV': 'Maldives','MLI': 'Mali','MLT': 'Malta','MHL': 'Marshall Islands','MTQ': 'Martinique','MRT': 'Mauritania','MUS': 'Mauritius','MYT': 'Mayotte','MEX': 'Mexico','FSM': 'Micronesia','MDA': 'Moldova','MCO': 'Monaco','MNG': 'Mongolia','MNE': 'Montenegro','MSR': 'Montserrat','MAR': 'Morocco','MOZ': 'Mozambique','MMR': 'Myanmar','NAM': 'Namibia','NRU': 'Nauru','NPL': 'Nepal','NLD': 'Netherlands','ANT': 'Netherlands Antilles','NCL': 'New Caledonia','NZL': 'New Zealand','NIC': 'Nicaragua','NER': 'Niger','NGA': 'Nigeria','NIU': 'Niue','NFK': 'Norfolk Island','PRK': 'North Korea','MNP': 'Northern Mariana Islands','NOR': 'Norway','OMN': 'Oman','PAK': 'Pakistan','PLW': 'Palau','PSE': 'Palestinian Territory','PAN': 'Panama','PNG': 'Papua New Guinea','PRY': 'Paraguay','PER': 'Peru','PHL': 'Philippines','PCN': 'Pitcairn','POL': 'Poland','PRT': 'Portugal','PRI': 'Puerto Rico','QAT': 'Qatar','COG': 'Republic of the Congo','REU': 'Reunion','ROU': 'Romania','RUS': 'Russia','RWA': 'Rwanda','BLM': 'Saint Barthelemy','SHN': 'Saint Helena','KNA': 'Saint Kitts and Nevis','LCA': 'Saint Lucia','MAF': 'Saint Martin','SPM': 'Saint Pierre and Miquelon','VCT': 'Saint Vincent and the Grenadines','WSM': 'Samoa','SMR': 'San Marino','STP': 'Sao Tome and Principe','SAU': 'Saudi Arabia','SEN': 'Senegal','SRB': 'Serbia','SCG': 'Serbia and Montenegro','SYC': 'Seychelles','SLE': 'Sierra Leone','SGP': 'Singapore','SXM': 'Sint Maarten','SVK': 'Slovakia','SVN': 'Slovenia','SLB': 'Solomon Islands','SOM': 'Somalia','ZAF': 'South Africa','SGS': 'South Georgia and the South Sandwich Islands','KOR': 'South Korea','SSD': 'South Sudan','ESP': 'Spain','LKA': 'Sri Lanka','SDN': 'Sudan','SUR': 'Suriname','SJM': 'Svalbard and Jan Mayen','SWZ': 'Swaziland','SWE': 'Sweden','CHE': 'Switzerland','SYR': 'Syria','TWN': 'Taiwan','TJK': 'Tajikistan','TZA': 'Tanzania','THA': 'Thailand','TGO': 'Togo','TKL': 'Tokelau','TON': 'Tonga','TTO': 'Trinidad and Tobago','TUN': 'Tunisia','TUR': 'Turkey','TKM': 'Turkmenistan','TCA': 'Turks and Caicos Islands','TUV': 'Tuvalu','VIR': 'U.S. Virgin Islands','UGA': 'Uganda','UKR': 'Ukraine','ARE': 'United Arab Emirates','GBR': 'United Kingdom','USA': 'United States','UMI': 'United States Minor Outlying Islands','URY': 'Uruguay','UZB': 'Uzbekistan','VUT': 'Vanuatu','VAT': 'Vatican','VEN': 'Venezuela','VNM': 'Vietnam','WLF': 'Wallis and Futuna','ESH': 'Western Sahara','YEM': 'Yemen','ZMB': 'Zambia','ZWE': 'Zimbabwe'}"
   ]
  },
  {
   "cell_type": "code",
   "execution_count": 9,
   "metadata": {},
   "outputs": [],
   "source": [
    "for i in range(len(pension)):\n",
    "    pension.loc[i, \"country\"] = country_code[pension.loc[i, \"country\"]]"
   ]
  },
  {
   "cell_type": "code",
   "execution_count": 10,
   "metadata": {},
   "outputs": [],
   "source": [
    "pension[\"country\"]=pension[\"country\"].str.upper()"
   ]
  },
  {
   "cell_type": "code",
   "execution_count": 11,
   "metadata": {},
   "outputs": [],
   "source": [
    "pension.to_csv(\"../data/pension_df.csv\", index=False)"
   ]
  },
  {
   "cell_type": "code",
   "execution_count": 12,
   "metadata": {},
   "outputs": [],
   "source": [
    "inequality = ine.drop(columns=[\"INDICATOR\",\"SUBJECT\",\"MEASURE\",\"FREQUENCY\",\"Flag Codes\"])"
   ]
  },
  {
   "cell_type": "code",
   "execution_count": 13,
   "metadata": {},
   "outputs": [],
   "source": [
    "inequality = inequality.rename(columns={\"LOCATION\":\"country\",\"TIME\":\"year\",\"Value\":\"inqlt_rate\"})"
   ]
  },
  {
   "cell_type": "code",
   "execution_count": 14,
   "metadata": {},
   "outputs": [
    {
     "data": {
      "text/html": [
       "<div>\n",
       "<style scoped>\n",
       "    .dataframe tbody tr th:only-of-type {\n",
       "        vertical-align: middle;\n",
       "    }\n",
       "\n",
       "    .dataframe tbody tr th {\n",
       "        vertical-align: top;\n",
       "    }\n",
       "\n",
       "    .dataframe thead th {\n",
       "        text-align: right;\n",
       "    }\n",
       "</style>\n",
       "<table border=\"1\" class=\"dataframe\">\n",
       "  <thead>\n",
       "    <tr style=\"text-align: right;\">\n",
       "      <th></th>\n",
       "      <th>country</th>\n",
       "      <th>year</th>\n",
       "      <th>inqlt_rate</th>\n",
       "    </tr>\n",
       "  </thead>\n",
       "  <tbody>\n",
       "    <tr>\n",
       "      <th>0</th>\n",
       "      <td>AUS</td>\n",
       "      <td>2016</td>\n",
       "      <td>0.330</td>\n",
       "    </tr>\n",
       "    <tr>\n",
       "      <th>1</th>\n",
       "      <td>AUS</td>\n",
       "      <td>2018</td>\n",
       "      <td>0.325</td>\n",
       "    </tr>\n",
       "    <tr>\n",
       "      <th>2</th>\n",
       "      <td>AUT</td>\n",
       "      <td>2015</td>\n",
       "      <td>0.275</td>\n",
       "    </tr>\n",
       "    <tr>\n",
       "      <th>3</th>\n",
       "      <td>AUT</td>\n",
       "      <td>2016</td>\n",
       "      <td>0.284</td>\n",
       "    </tr>\n",
       "    <tr>\n",
       "      <th>4</th>\n",
       "      <td>AUT</td>\n",
       "      <td>2017</td>\n",
       "      <td>0.275</td>\n",
       "    </tr>\n",
       "  </tbody>\n",
       "</table>\n",
       "</div>"
      ],
      "text/plain": [
       "  country  year  inqlt_rate\n",
       "0     AUS  2016       0.330\n",
       "1     AUS  2018       0.325\n",
       "2     AUT  2015       0.275\n",
       "3     AUT  2016       0.284\n",
       "4     AUT  2017       0.275"
      ]
     },
     "execution_count": 14,
     "metadata": {},
     "output_type": "execute_result"
    }
   ],
   "source": [
    "inequality.head()"
   ]
  },
  {
   "cell_type": "code",
   "execution_count": 15,
   "metadata": {},
   "outputs": [],
   "source": [
    "for i in range(len(inequality)):\n",
    "    inequality.loc[i, \"country\"] = country_code[inequality.loc[i, \"country\"]].upper()"
   ]
  },
  {
   "cell_type": "code",
   "execution_count": 16,
   "metadata": {},
   "outputs": [],
   "source": [
    "inequality.to_csv(\"../data/inequality_df.csv\", index=False)"
   ]
  },
  {
   "cell_type": "code",
   "execution_count": null,
   "metadata": {},
   "outputs": [],
   "source": []
  }
 ],
 "metadata": {
  "kernelspec": {
   "display_name": "Python 3",
   "language": "python",
   "name": "python3"
  },
  "language_info": {
   "codemirror_mode": {
    "name": "ipython",
    "version": 3
   },
   "file_extension": ".py",
   "mimetype": "text/x-python",
   "name": "python",
   "nbconvert_exporter": "python",
   "pygments_lexer": "ipython3",
   "version": "3.7.6"
  }
 },
 "nbformat": 4,
 "nbformat_minor": 4
}

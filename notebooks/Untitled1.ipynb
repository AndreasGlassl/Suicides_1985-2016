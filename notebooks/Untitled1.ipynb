{
 "cells": [
  {
   "cell_type": "code",
   "execution_count": null,
   "metadata": {},
   "outputs": [],
   "source": [
    "[\"AUSTRALIA\",\n",
    "\"AUSTRIA\",\n",
    "\"BELGIUM\",\n",
    "\"CANADA\",\n",
    "\"CHILE\",\n",
    "\"COLOMBIA\",\n",
    "\"CZECH REPUBLIC\",\n",
    "\"DENMARK\",\n",
    "\"ESTONIA\",\n",
    "\"FINLAND\",\n",
    "\"FRANCE\",\n",
    "\"GERMANY\",\n",
    "\"GREECE\",\n",
    "\"HUNGARY\",\n",
    "\"ICELAND\",\n",
    "\"IRELAND\",\n",
    "\"ISRAEL\",\n",
    "\"ITALY\",\n",
    "\"JAPAN\",\n",
    "\"REPUBLIC OF KOREA\",\n",
    "\"LATVIA\",\n",
    "\"LITHUANIA\",\n",
    "\"LUXEMBOURG\",\n",
    "\"MEXICO\",\n",
    "\"NETHERLANDS\",\n",
    "\"NEW ZEALAND\",\n",
    "\"NORWAY\",\n",
    "\"POLAND\",\n",
    "\"PORTUGAL\",\n",
    "\"SLOVAK REPUBLIC\",\n",
    "\"SLOVENIA\",\n",
    "\"SPAIN\",\n",
    "\"SWEDEN\",\n",
    "\"SWITZERLAND\",\n",
    "\"TURKEY\",\n",
    "\"UNITED KINGDOM\",\n",
    "\"UNITED STATES\"]"
   ]
  }
 ],
 "metadata": {
  "kernelspec": {
   "display_name": "Python 3",
   "language": "python",
   "name": "python3"
  },
  "language_info": {
   "codemirror_mode": {
    "name": "ipython",
    "version": 3
   },
   "file_extension": ".py",
   "mimetype": "text/x-python",
   "name": "python",
   "nbconvert_exporter": "python",
   "pygments_lexer": "ipython3",
   "version": "3.7.6"
  }
 },
 "nbformat": 4,
 "nbformat_minor": 4
}
